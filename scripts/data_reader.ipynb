{
 "cells": [
  {
   "cell_type": "code",
   "execution_count": 2,
   "metadata": {},
   "outputs": [
    {
     "name": "stderr",
     "output_type": "stream",
     "text": [
      "/var/folders/1s/gq5q_hsx1yqb2rtz9cll80f00000gn/T/ipykernel_12290/2011334819.py:11: FutureWarning: 'Q' is deprecated and will be removed in a future version, please use 'QE' instead.\n",
      "  cpi = cpi.resample('Q').mean()  # Resample to quarterly average\n"
     ]
    },
    {
     "data": {
      "text/html": [
       "<div>\n",
       "<style scoped>\n",
       "    .dataframe tbody tr th:only-of-type {\n",
       "        vertical-align: middle;\n",
       "    }\n",
       "\n",
       "    .dataframe tbody tr th {\n",
       "        vertical-align: top;\n",
       "    }\n",
       "\n",
       "    .dataframe thead th {\n",
       "        text-align: right;\n",
       "    }\n",
       "</style>\n",
       "<table border=\"1\" class=\"dataframe\">\n",
       "  <thead>\n",
       "    <tr style=\"text-align: right;\">\n",
       "      <th></th>\n",
       "      <th>CPIAUCSL</th>\n",
       "      <th>Inflation (%)</th>\n",
       "    </tr>\n",
       "    <tr>\n",
       "      <th>DATE</th>\n",
       "      <th></th>\n",
       "      <th></th>\n",
       "    </tr>\n",
       "  </thead>\n",
       "  <tbody>\n",
       "    <tr>\n",
       "      <th>2024-03-31</th>\n",
       "      <td>310.989667</td>\n",
       "      <td>3.249193</td>\n",
       "    </tr>\n",
       "    <tr>\n",
       "      <th>2024-06-30</th>\n",
       "      <td>313.160333</td>\n",
       "      <td>3.194310</td>\n",
       "    </tr>\n",
       "    <tr>\n",
       "      <th>2024-09-30</th>\n",
       "      <td>314.113667</td>\n",
       "      <td>2.640009</td>\n",
       "    </tr>\n",
       "    <tr>\n",
       "      <th>2024-12-31</th>\n",
       "      <td>315.454000</td>\n",
       "      <td>2.387220</td>\n",
       "    </tr>\n",
       "  </tbody>\n",
       "</table>\n",
       "</div>"
      ],
      "text/plain": [
       "              CPIAUCSL  Inflation (%)\n",
       "DATE                                 \n",
       "2024-03-31  310.989667       3.249193\n",
       "2024-06-30  313.160333       3.194310\n",
       "2024-09-30  314.113667       2.640009\n",
       "2024-12-31  315.454000       2.387220"
      ]
     },
     "metadata": {},
     "output_type": "display_data"
    }
   ],
   "source": [
    "import pandas as pd\n",
    "import pandas_datareader.data as web\n",
    "from datetime import datetime\n",
    "\n",
    "# Define the start and end date for data fetching\n",
    "start_date = \"2018-01-01\"\n",
    "end_date = datetime.today().strftime('%Y-%m-%d')\n",
    "\n",
    "# Fetch CPI data from FRED (Federal Reserve Economic Data)\n",
    "cpi = web.DataReader(\"CPIAUCSL\", \"fred\", start_date, end_date)\n",
    "cpi = cpi.resample('Q').mean()  # Resample to quarterly average\n",
    "\n",
    "# Calculate inflation as % change over the past 4 quarters\n",
    "cpi['Inflation (%)'] = cpi['CPIAUCSL'].pct_change(periods=4) * 100\n",
    "\n",
    "# Return the last 4 quarters of inflation data\n",
    "inflation_data = cpi.iloc[-4:]\n",
    "\n",
    "# Print the inflation data\n",
    "display(inflation_data)\n"
   ]
  }
 ],
 "metadata": {
  "kernelspec": {
   "display_name": "base",
   "language": "python",
   "name": "python3"
  },
  "language_info": {
   "codemirror_mode": {
    "name": "ipython",
    "version": 3
   },
   "file_extension": ".py",
   "mimetype": "text/x-python",
   "name": "python",
   "nbconvert_exporter": "python",
   "pygments_lexer": "ipython3",
   "version": "3.9.18"
  }
 },
 "nbformat": 4,
 "nbformat_minor": 2
}
